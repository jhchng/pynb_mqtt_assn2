{
 "cells": [
  {
   "cell_type": "markdown",
   "id": "afa761e5-0b7f-4b61-88c3-5588cfe3b12e",
   "metadata": {},
   "source": [
    "<h3>The first line below imports the library functions for MQTT</</h3>"
   ]
  },
  {
   "cell_type": "code",
   "execution_count": 1,
   "id": "3cbcbf08-7c8d-4641-bc1e-24f6a08b944c",
   "metadata": {},
   "outputs": [],
   "source": [
    "import paho.mqtt.client as mqtt\n",
    "from datetime import datetime as alert_time"
   ]
  },
  {
   "cell_type": "markdown",
   "id": "0a256cf6-b692-438b-a5b3-72a416ba23bc",
   "metadata": {},
   "source": [
    "<h3>The callback functions</h3>\n",
    "<ul><h4>\n",
    "    <li>on_connect - automatically called by the client upon connection to the broker</li></h4>\n",
    "</ul>\n",
    "&emsp;The on_connect function:\n",
    "<ul>\n",
    "    <li>prints the result of the connection attempt,</li>\n",
    "    <li>and performs the subscription subscribe (only after client is connected to the broker)</li>\n",
    "</ul>"
   ]
  },
  {
   "cell_type": "code",
   "execution_count": 2,
   "id": "2071de8d-cb28-4ec3-9bc1-af441f5bb15a",
   "metadata": {},
   "outputs": [],
   "source": [
    "def on_connect(client, userdata, flags, rc):\n",
    "    client.subscribe(\"test\")"
   ]
  },
  {
   "cell_type": "markdown",
   "id": "71a0ca3e-1ea9-494e-b43b-8ff513bb3804",
   "metadata": {},
   "source": [
    "<h4><li>on_message - automatically called upon receiving a message</li></h4>"
   ]
  },
  {
   "cell_type": "code",
   "execution_count": 3,
   "id": "038e7f7b-f487-4835-bea2-fef3e4e29c89",
   "metadata": {},
   "outputs": [],
   "source": [
    "def on_message(client, userdata, msg):\n",
    "    # Do something\n",
    "    print(\"Message Received: {},{}\\n\".format(msg.topic, msg.payload.decode(\"utf-8\")))\n",
    "    if msg.topic == \"test\":\n",
    "        gdata1=str(msg.payload.decode(\"utf-8\"))\n",
    "        print(\"message temp1: {}\".format(gdata1))\n"
   ]
  },
  {
   "cell_type": "markdown",
   "id": "08680886-cf62-4ee9-83f3-35c99fe3dc71",
   "metadata": {},
   "source": [
    "<h3>The clientconn() function:</h3>\n",
    "<ul>\n",
    "    <li>Instantiate a client object with the client ID - \"clientID1\" </li>\n",
    "    <li>Define the callback functions to use upon connection and upon message receipt</li>\n",
    "    <li>Connect to an MQTT broker with keepalive of 60secs</li>\n",
    "    <li>The last line starts a network daemon that runs in the background and handles data transactions and messages, <br>as well as keeping the socket open, until the script ends.</li>\n",
    "    <li>In this case, loop_forever() never ends, unless interrupted by break command</li>\n",
    "</ul>\n",
    "\n",
    "<b><i>The MQTT Server IP address can be 192.168.23.1(RPi MQTT Server) or any MQTT server IP address (e.g. your laptop, or test.mosquitto.org, etc).</b></i>"
   ]
  },
  {
   "cell_type": "code",
   "execution_count": 6,
   "id": "7865aa79-bab3-48a0-8735-ac05bc11f522",
   "metadata": {},
   "outputs": [],
   "source": [
    "mqtt_ipsvr = \"192.168.23.1\"\n",
    "mqtt_port = 1883\n",
    "\n",
    "def clientconn():\n",
    "    global client\n",
    "    global mqtt_ipsvr\n",
    "    client = mqtt.Client(\"clientID1\")\n",
    "    client.on_connect = on_connect\n",
    "    client.on_message = on_message\n",
    "    print(f\"mqtt_ipsvr addr={mqtt_ipsvr}\")\n",
    "    client.connect(mqtt_ipsvr, mqtt_port, 60)"
   ]
  },
  {
   "cell_type": "markdown",
   "id": "a6dfe469-fc31-48f3-98f0-7d2c67a4b69b",
   "metadata": {},
   "source": [
    "<h3>Important Note:</h3>\n",
    "<ul>\n",
    "    <li>To stop the mqtt client, click on &#x23F9; button</li>\n",
    "    <li>Send only 1 message at a time, using the mosquitto_pub command from command prompt to test your code</li>\n",
    "</ul>\n",
    "<b><i>To start the mqtt client, execute the code below after the above codes have been executed.</b></i>"
   ]
  },
  {
   "cell_type": "code",
   "execution_count": null,
   "id": "a0706fcf-d0d0-40e1-954f-8e685a0d8bb9",
   "metadata": {},
   "outputs": [
    {
     "name": "stdout",
     "output_type": "stream",
     "text": [
      "mqtt_ipsvr addr=192.168.23.1\n"
     ]
    }
   ],
   "source": [
    "if __name__ == '__main__':\n",
    "    clientconn()\n",
    "    client.loop_forever()"
   ]
  },
  {
   "cell_type": "code",
   "execution_count": null,
   "id": "de40395b-66f3-4fad-a3de-f1b9171a24f2",
   "metadata": {},
   "outputs": [],
   "source": []
  }
 ],
 "metadata": {
  "kernelspec": {
   "display_name": "Python 3 (ipykernel)",
   "language": "python",
   "name": "python3"
  },
  "language_info": {
   "codemirror_mode": {
    "name": "ipython",
    "version": 3
   },
   "file_extension": ".py",
   "mimetype": "text/x-python",
   "name": "python",
   "nbconvert_exporter": "python",
   "pygments_lexer": "ipython3",
   "version": "3.12.4"
  }
 },
 "nbformat": 4,
 "nbformat_minor": 5
}
